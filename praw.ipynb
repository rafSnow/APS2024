{
 "cells": [
  {
   "cell_type": "code",
   "execution_count": 1,
   "id": "9c4fe7f3-9da6-4313-aca0-481493a6b942",
   "metadata": {},
   "outputs": [],
   "source": [
    "import praw"
   ]
  },
  {
   "cell_type": "code",
   "execution_count": 2,
   "id": "904a8812-9ade-4221-82a1-c413a0b742b4",
   "metadata": {},
   "outputs": [],
   "source": [
    "reddit = praw.Reddit(\n",
    "    client_id=\"0LUIMHwzq6iTBcF4F4zGpQ\",\n",
    "    client_secret=\"AN90R4CXtXjCpEfXEEVCIKIjReY0NA\",\n",
    "    user_agent=\"aps\",\n",
    ")"
   ]
  },
  {
   "cell_type": "code",
   "execution_count": 3,
   "id": "0f76d797-9ae5-4b51-b418-f9f6724acc27",
   "metadata": {},
   "outputs": [
    {
     "name": "stdout",
     "output_type": "stream",
     "text": [
      "True\n"
     ]
    }
   ],
   "source": [
    "print(reddit.read_only)\n",
    "# Output: True"
   ]
  },
  {
   "cell_type": "code",
   "execution_count": 4,
   "id": "3a11491e-14e2-49ad-86d8-0eee2901c8c7",
   "metadata": {},
   "outputs": [
    {
     "name": "stdout",
     "output_type": "stream",
     "text": [
      "Sunday Daily Thread: What's everyone working on this week?\n",
      "PyCon US 2024 Approaches\n",
      "Disabling the GIL option has been merged into Python.\n",
      "Haystack 2.0 launch\n",
      "Would you use Go / Rust style error handling in Python?\n",
      "Fuzzy process matching\n",
      "CTF-style Python Challenge\n",
      "I Built a Squaredle Bot\n",
      "Centinela Digital\n",
      "Monday Daily Thread: Project ideas!\n"
     ]
    }
   ],
   "source": [
    "# continued from code above\n",
    "\n",
    "for submission in reddit.subreddit(\"python\").hot(limit=10):\n",
    "    print(submission.title)\n",
    "\n",
    "# Output: 10 submissions"
   ]
  },
  {
   "cell_type": "code",
   "execution_count": 5,
   "id": "0b28d6aa-3afb-403b-bc07-7409e42e3f0a",
   "metadata": {},
   "outputs": [],
   "source": [
    "top_post = reddit.subreddit(\"python\").top(limit=10)\n",
    "new_post = reddit.subreddit(\"python\").new(limit=10)"
   ]
  },
  {
   "cell_type": "code",
   "execution_count": 6,
   "id": "7bd7aa19-4973-4a42-9a09-48d09065cc38",
   "metadata": {},
   "outputs": [
    {
     "name": "stdout",
     "output_type": "stream",
     "text": [
      "Titulo - Lad wrote a Python script to download Alexa voice recordings, he didn't expect this email.\n",
      "ID - g53lxf\n",
      "Autor - iEslam\n",
      "URL - https://i.redd.it/2s0dj8ob12u41.png\n",
      "Score - 12341\n",
      "Quantidades de Comentarios - 133\n",
      "Criado - 1587424299.0\n",
      "\n",
      "\n",
      "Titulo - This post has:\n",
      "ID - hoolsm\n",
      "Autor - Krukerfluk\n",
      "URL - https://www.reddit.com/r/Python/comments/hoolsm/this_post_has/\n",
      "Score - 9231\n",
      "Quantidades de Comentarios - 437\n",
      "Criado - 1594386373.0\n",
      "\n",
      "\n",
      "Titulo - I redesign the Python logo to make it more modern\n",
      "ID - gftejm\n",
      "Autor - jessjwilliamson\n",
      "URL - https://i.redd.it/rxezjyf4ojx41.png\n",
      "Score - 7860\n",
      "Quantidades de Comentarios - 266\n",
      "Criado - 1588945149.0\n",
      "\n",
      "\n",
      "Titulo - Automate the boring stuff with python - tinder\n",
      "ID - 7kpme8\n",
      "Autor - backprop88\n",
      "URL - https://gfycat.com/PointlessSimplisticAmericanquarterhorse\n",
      "Score - 6721\n",
      "Quantidades de Comentarios - 325\n",
      "Criado - 1513644476.0\n",
      "\n",
      "\n",
      "Titulo - Just finished programming and building my own smart mirror in python, wrote all of the code myself and implemented my own voice control and facial recognition features\n",
      "ID - dmkx8a\n",
      "Autor - janky_british_gamer\n",
      "URL - https://i.redd.it/24ug9g82dju31.jpg\n",
      "Score - 6614\n",
      "Quantidades de Comentarios - 468\n",
      "Criado - 1571943330.0\n",
      "\n",
      "\n",
      "Titulo - I'm excited to share my first published book, Introduction to Python Programming for Business and Social Science Applications -- specifically geared towards students not specifically in computer science\n",
      "ID - irh8l0\n",
      "Autor - paulkaefer\n",
      "URL - https://i.redd.it/ebmh8z3c8rm51.png\n",
      "Score - 6502\n",
      "Quantidades de Comentarios - 249\n",
      "Criado - 1599933196.0\n",
      "\n",
      "\n",
      "Titulo - Drawing Mona Lisa with 256 circles using evolution [Github repo in comments]\n",
      "ID - gn9add\n",
      "Autor - Itwist101\n",
      "URL - https://v.redd.it/nyzyx7uyfwz41\n",
      "Score - 5717\n",
      "Quantidades de Comentarios - 121\n",
      "Criado - 1589972294.0\n",
      "\n",
      "\n",
      "Titulo - I made a simulation using Python in which a neural network learns to race\n",
      "ID - hqc7ol\n",
      "Autor - atqm-\n",
      "URL - https://v.redd.it/bgmc6q20ela51\n",
      "Score - 5688\n",
      "Quantidades de Comentarios - 212\n",
      "Criado - 1594632457.0\n",
      "\n",
      "\n",
      "Titulo - Thanks to everyone’s advice, my mouse drawing algorithm has gotten much better and faster!\n",
      "ID - ghxqod\n",
      "Autor - Nekose\n",
      "URL - https://v.redd.it/sktc30zom7y41\n",
      "Score - 5540\n",
      "Quantidades de Comentarios - 203\n",
      "Criado - 1589235279.0\n",
      "\n",
      "\n",
      "Titulo - Debugging Cheat Sheet\n",
      "ID - iehths\n",
      "Autor - HotTeenBoy\n",
      "URL - https://i.redd.it/p1i8awsivji51.jpg\n",
      "Score - 5445\n",
      "Quantidades de Comentarios - 112\n",
      "Criado - 1598100424.0\n",
      "\n",
      "\n"
     ]
    }
   ],
   "source": [
    "for post in top_post:\n",
    "    print (\"Titulo -\", post.title)\n",
    "    print(\"ID -\",post.id)\n",
    "    print(\"Autor -\", post.author)\n",
    "    print(\"URL -\", post.url)\n",
    "    print(\"Score -\", post.score)\n",
    "    print(\"Quantidades de Comentarios -\", post.num_comments)\n",
    "    print(\"Criado -\", post.created_utc)\n",
    "    print(\"\\n\")"
   ]
  },
  {
   "cell_type": "code",
   "execution_count": 7,
   "id": "e9ea2bc4-9e32-4bdc-a569-a3200bd14edd",
   "metadata": {},
   "outputs": [
    {
     "name": "stdout",
     "output_type": "stream",
     "text": [
      "Comentario:  scale tap piquant quiet advise salt languid abundant dolls long -- mass edited with redact.dev\n",
      "Autor:  None\n",
      "Comentario:  Good job. But honestly, add a sleep timer of a few seconds. This will eventually get your IP banned on reddit if you bombard them with too many requests.\n",
      "Autor:  SpontaneousAge\n"
     ]
    }
   ],
   "source": [
    "post = reddit.submission(id=\"hoolsm\")\n",
    "comments = post.comments\n",
    "for comment in comments[:2]:\n",
    "    print(\"Comentario: \", comment.body)\n",
    "    print(\"Autor: \",comment.author)"
   ]
  },
  {
   "cell_type": "code",
   "execution_count": null,
   "id": "90a6176c-098a-493d-97b4-db5b143da346",
   "metadata": {},
   "outputs": [],
   "source": []
  },
  {
   "cell_type": "code",
   "execution_count": null,
   "id": "28b07a92-8697-4bc6-8464-754c229f3ba9",
   "metadata": {},
   "outputs": [],
   "source": []
  }
 ],
 "metadata": {
  "kernelspec": {
   "display_name": "aps",
   "language": "python",
   "name": "aps"
  },
  "language_info": {
   "codemirror_mode": {
    "name": "ipython",
    "version": 3
   },
   "file_extension": ".py",
   "mimetype": "text/x-python",
   "name": "python",
   "nbconvert_exporter": "python",
   "pygments_lexer": "ipython3",
   "version": "3.11.7"
  }
 },
 "nbformat": 4,
 "nbformat_minor": 5
}
