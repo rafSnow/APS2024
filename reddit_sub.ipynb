{
 "cells": [
  {
   "cell_type": "code",
   "execution_count": null,
   "id": "2c3052e6-bbc0-4867-930a-c85532db4202",
   "metadata": {},
   "outputs": [],
   "source": [
    "import praw"
   ]
  },
  {
   "cell_type": "code",
   "execution_count": null,
   "id": "d12d9077-bb36-4b3f-b00d-181126245ebb",
   "metadata": {},
   "outputs": [],
   "source": [
    "reddit  = praw.Reddit(\n",
    "    client_id=\"FXjZhtlfgTG9Zr78G3wf_w\",\n",
    "    client_secret=\"54PJxwxnrGwEL9MCkjDjlF0QEKtC1Q\",\n",
    "    user_agent=\"APS2024 by u/Snowszz\",\n",
    "    username=\"Snowszz\",\n",
    "    password=\"Rns.2022\")"
   ]
  },
  {
   "cell_type": "code",
   "execution_count": null,
   "id": "3bfd679d-b849-411c-a6c1-05419f47e1b6",
   "metadata": {},
   "outputs": [],
   "source": [
    "subreddit = reddit.subreddit(\"python\")"
   ]
  },
  {
   "cell_type": "code",
   "execution_count": null,
   "id": "1cf36836-d9db-4827-aee5-13d225c3b203",
   "metadata": {},
   "outputs": [],
   "source": [
    "top_posts = subreddit.top(limit=10)"
   ]
  },
  {
   "cell_type": "code",
   "execution_count": null,
   "id": "4cd6d5ff-79c6-4d73-954f-34e053e9f8ac",
   "metadata": {},
   "outputs": [],
   "source": [
    "new_posts = subreddit.new(limit=10)"
   ]
  },
  {
   "cell_type": "code",
   "execution_count": null,
   "id": "797f6b08-e976-4c82-b02a-055207f51c14",
   "metadata": {},
   "outputs": [],
   "source": [
    "#for post in top_posts:"
   ]
  }
 ],
 "metadata": {
  "kernelspec": {
   "display_name": "Python 3 (ipykernel)",
   "language": "python",
   "name": "python3"
  },
  "language_info": {
   "codemirror_mode": {
    "name": "ipython",
    "version": 3
   },
   "file_extension": ".py",
   "mimetype": "text/x-python",
   "name": "python",
   "nbconvert_exporter": "python",
   "pygments_lexer": "ipython3",
   "version": "3.11.8"
  }
 },
 "nbformat": 4,
 "nbformat_minor": 5
}
