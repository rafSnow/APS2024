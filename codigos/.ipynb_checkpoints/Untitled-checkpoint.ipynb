{
 "cells": [
  {
   "cell_type": "code",
   "execution_count": 16,
   "id": "7d00c6fb-f8a0-47b3-b629-e0a2a942afe4",
   "metadata": {},
   "outputs": [
    {
     "name": "stdout",
     "output_type": "stream",
     "text": [
      "\n",
      "Algumas linhas da Planilha 1:\n",
      "0    28578500000124.0\n",
      "1    24862369000171.0\n",
      "2     1768904000124.0\n",
      "3    25040478000176.0\n",
      "4    18932733000120.0\n",
      "Name: CNPJ, dtype: object\n",
      "\n",
      "Algumas linhas da Planilha 2:\n",
      "             CNPJ\n",
      "0  28578500000124\n",
      "1  24862369000171\n",
      "2   1768904000124\n",
      "3   1494707000164\n",
      "4  25040478000176\n"
     ]
    }
   ],
   "source": [
    "import pandas as pd\n",
    "\n",
    "# Leitura das duas planilhas\n",
    "caminho_arquivo_planilha1 = r'C:\\Python\\AUXNUT\\arquivos\\prestacaoJaneiro.xlsx'  # Substitua pelo caminho real do seu arquivo\n",
    "caminho_arquivo_planilha2 = r'C:\\Python\\AUXNUT\\arquivos\\entidades.csv'  # Substitua pelo caminho real do seu arquivo\n",
    "\n",
    "planilha1 = pd.read_excel(caminho_arquivo_planilha1)\n",
    "planilha2 = pd.read_csv(caminho_arquivo_planilha2, usecols=['CNPJ'])\n",
    "\n",
    "# Converter o tipo de dados da coluna \"CNPJ\" para o mesmo tipo em ambos os DataFrames\n",
    "planilha1['CNPJ'] = planilha1['CNPJ'].astype(str)\n",
    "planilha2['CNPJ'] = planilha2['CNPJ'].astype(str)\n",
    "\n",
    "# Mesclar as duas planilhas com base na coluna \"NOME\"\n",
    "planilha_final = pd.merge(planilha1, planilha2, on='CNPJ', how='inner')\n",
    "\n",
    "# Preencher valores NaN resultantes da mesclagem\n",
    "# Substitua NaN nas colunas da planilha1 pelas correspondentes da planilha2\n",
    "colunas_planilha1 = ['AGENCIA', 'DV AGENCIA', 'OPERAÇÃO CONTA', 'CONTA CORRENTE', 'DV CONTA CORRENTE']\n",
    "for col in colunas_planilha1:\n",
    "    col_y = col + '_y'\n",
    "    if col_y in planilha_final.columns:\n",
    "        planilha_final[col].fillna(planilha_final[col_y], inplace=True)\n",
    "        planilha_final.drop(columns=col_y, inplace=True)  # Remover a coluna \"_y\" após a substituição\n",
    "\n",
    "# Salvar a planilha final em um arquivo Excel\n",
    "caminho_arquivo_saida = r'C:\\Python\\AUXNUT\\arquivos\\planilha_final.xlsx'  # Substitua pelo caminho onde deseja salvar o arquivo final\n",
    "planilha_final.to_excel(caminho_arquivo_saida, index=False)\n",
    "\n",
    "print(\"\\nAlgumas linhas da Planilha 1:\")\n",
    "print(planilha1[\"CNPJ\"].head())\n",
    "\n",
    "print(\"\\nAlgumas linhas da Planilha 2:\")\n",
    "print(planilha2.head())"
   ]
  },
  {
   "cell_type": "code",
   "execution_count": 25,
   "id": "4f0abe5c-ac65-42fa-b129-493bc52d1f99",
   "metadata": {},
   "outputs": [
    {
     "name": "stdout",
     "output_type": "stream",
     "text": [
      "\n",
      "Algumas linhas da Planilha 1:\n",
      "0    28578500000124\n",
      "1    24862369000171\n",
      "2    01768904000124\n",
      "3    25040478000176\n",
      "4    18932733000120\n",
      "Name: CNPJ, dtype: object\n",
      "\n",
      "Algumas linhas da Planilha 2:\n",
      "             CNPJ\n",
      "0  28578500000124\n",
      "1  24862369000171\n",
      "2  01768904000124\n",
      "3  01494707000164\n",
      "4  25040478000176\n"
     ]
    }
   ],
   "source": [
    "import pandas as pd\n",
    "\n",
    "# Leitura das duas planilhas\n",
    "caminho_arquivo_planilha1 = r'C:\\Python\\AUXNUT\\arquivos\\prestacaoJaneiro.xlsx'  # Substitua pelo caminho real do seu arquivo\n",
    "caminho_arquivo_planilha2 = r'C:\\Python\\AUXNUT\\arquivos\\entidades.csv'  # Substitua pelo caminho real do seu arquivo\n",
    "\n",
    "planilha1 = pd.read_excel(caminho_arquivo_planilha1)\n",
    "planilha2 = pd.read_csv(caminho_arquivo_planilha2, usecols=['CNPJ'])\n",
    "\n",
    "# Função para remover pontos decimais e zeros à esquerda dos CNPJs\n",
    "def formatar_cnpj(cnpj):\n",
    "    cnpj_str = str(cnpj).split('.')[0]  # Remove parte decimal\n",
    "    return cnpj_str.zfill(14)  # Preenche com zeros à esquerda até atingir 14 caracteres\n",
    "\n",
    "# Aplicar a função para formatar os CNPJs na Planilha 1\n",
    "planilha1['CNPJ'] = planilha1['CNPJ'].apply(formatar_cnpj)\n",
    "\n",
    "# Converter o tipo de dados da coluna \"CNPJ\" para o mesmo tipo em ambos os DataFrames\n",
    "planilha2['CNPJ'] = planilha2['CNPJ'].apply(formatar_cnpj)\n",
    "\n",
    "# Mesclar as duas planilhas com base na coluna \"CNPJ\"\n",
    "planilha_final = pd.merge(planilha1, planilha2, on='CNPJ', how='inner')\n",
    "\n",
    "# Salvar a planilha final em um arquivo Excel\n",
    "caminho_arquivo_saida = r'C:\\Python\\AUXNUT\\arquivos\\planilha_final.xlsx'  # Substitua pelo caminho onde deseja salvar o arquivo final\n",
    "planilha_final.to_excel(caminho_arquivo_saida, index=False)\n",
    "\n",
    "print(\"\\nAlgumas linhas da Planilha 1:\")\n",
    "print(planilha1[\"CNPJ\"].head())\n",
    "\n",
    "print(\"\\nAlgumas linhas da Planilha 2:\")\n",
    "print(planilha2.head())\n"
   ]
  },
  {
   "cell_type": "code",
   "execution_count": 32,
   "id": "dd420251-1ca9-4505-acd4-690fbb6a3adf",
   "metadata": {},
   "outputs": [
    {
     "name": "stderr",
     "output_type": "stream",
     "text": [
      "C:\\Users\\rafael.nsouza\\AppData\\Local\\anaconda3\\Lib\\site-packages\\openpyxl\\styles\\stylesheet.py:226: UserWarning: Workbook contains no default style, apply openpyxl's default\n",
      "  warn(\"Workbook contains no default style, apply openpyxl's default\")\n"
     ]
    },
    {
     "name": "stdout",
     "output_type": "stream",
     "text": [
      "Colunas disponíveis no DataFrame:\n",
      "Index(['MUNICÍPIO', 'NOME', 'AGENCIA', 'DV AGENCIA', 'OPERAÇÃO CONTA',\n",
      "       'CONTA CORRENTE', 'DV CONTA CORRENTE', 'STATUS', 'CNPJ', 'META', 'DIAS',\n",
      "       'VALOR DO BENEFÍCIO', 'ENDEREÇO', 'BAIRRO', 'CIDADE', 'CEP', 'FÉRIAS',\n",
      "       'OBS', 'ID'],\n",
      "      dtype='object')\n",
      "Planilha final com os campos ajustados foi salva com sucesso.\n"
     ]
    }
   ],
   "source": [
    "import pandas as pd\n",
    "\n",
    "# Leitura da tabela pc_entidades convertida para Excel\n",
    "caminho_arquivo_pc_entidades = r'C:\\Python\\AUXNUT\\arquivos\\pc_entidades.xlsx'\n",
    "pc_entidades = pd.read_excel(caminho_arquivo_pc_entidades)\n",
    "\n",
    "# Leitura da planilha final\n",
    "caminho_arquivo_planilha_final = r'C:\\Python\\AUXNUT\\arquivos\\planilha_final.xlsx'\n",
    "planilha_final = pd.read_excel(caminho_arquivo_planilha_final)\n",
    "\n",
    "# Converter a coluna CNPJ para o tipo str em ambas as tabelas\n",
    "pc_entidades['CNPJ'] = pc_entidades['CNPJ'].astype(str)\n",
    "planilha_final['CNPJ'] = planilha_final['CNPJ'].astype(str)\n",
    "\n",
    "# Mesclar a planilha final com a tabela pc_entidades para obter o ID da entidade usando o CNPJ\n",
    "planilha_final_com_id_entidades = pd.merge(planilha_final, pc_entidades[['ID', 'CNPJ']], on='CNPJ', how='left')\n",
    "\n",
    "# Verificar as colunas disponíveis no DataFrame\n",
    "print(\"Colunas disponíveis no DataFrame:\")\n",
    "print(planilha_final_com_id_entidades.columns)\n",
    "\n",
    "# Renomear as colunas para corresponder à estrutura da tabela PC_CONTAS\n",
    "colunas_para_renomear = {\n",
    "    'AGENCIA': 'AGENCIA',\n",
    "    'DV AGENCIA': 'DV_AGENCIA',  # Verifique se esta coluna está disponível no DataFrame\n",
    "    'OPERAÇÃO CONTA': 'OPERACAO_CONTA',\n",
    "    'CONTA CORRENTE': 'CONTA_CORRENTE',\n",
    "    'DV CONTA CORRENTE': 'DV_CONTA_CORRENTE',\n",
    "    'ID': 'ID_ENTIDADE'\n",
    "}\n",
    "\n",
    "# Verificar se a coluna 'DV AGENCIA' está presente no DataFrame\n",
    "if 'DV AGENCIA' in planilha_final_com_id_entidades.columns:\n",
    "    colunas_para_renomear['DV AGENCIA'] = 'DV_AGENCIA'\n",
    "else:\n",
    "    print(\"A coluna 'DV AGENCIA' não está presente no DataFrame.\")\n",
    "\n",
    "planilha_final_com_id_entidades.rename(columns=colunas_para_renomear, inplace=True)\n",
    "\n",
    "# Reordenar as colunas para corresponder à estrutura da tabela PC_CONTAS\n",
    "colunas_para_reordenar = [\n",
    "    'AGENCIA', 'DV_AGENCIA', 'OPERACAO_CONTA', 'CONTA_CORRENTE', 'DV_CONTA_CORRENTE', 'ID_ENTIDADE'\n",
    "]\n",
    "planilha_final_com_id_entidades = planilha_final_com_id_entidades[colunas_para_reordenar]\n",
    "\n",
    "# Salvar a planilha final em um arquivo Excel\n",
    "caminho_arquivo_saida = r'C:\\Python\\AUXNUT\\arquivos\\planilha_final_com_id_entidades.xlsx'\n",
    "planilha_final_com_id_entidades.to_excel(caminho_arquivo_saida, index=False)\n",
    "\n",
    "print(\"Planilha final com os campos ajustados foi salva com sucesso.\")\n"
   ]
  },
  {
   "cell_type": "code",
   "execution_count": null,
   "id": "0bb34ac3-9601-464e-9dc3-c0426d03acdb",
   "metadata": {},
   "outputs": [],
   "source": []
  }
 ],
 "metadata": {
  "kernelspec": {
   "display_name": "Python 3 (ipykernel)",
   "language": "python",
   "name": "python3"
  },
  "language_info": {
   "codemirror_mode": {
    "name": "ipython",
    "version": 3
   },
   "file_extension": ".py",
   "mimetype": "text/x-python",
   "name": "python",
   "nbconvert_exporter": "python",
   "pygments_lexer": "ipython3",
   "version": "3.11.7"
  }
 },
 "nbformat": 4,
 "nbformat_minor": 5
}
